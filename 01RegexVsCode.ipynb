{
 "cells": [
  {
   "cell_type": "markdown",
   "id": "1ac0a5b5-c5a7-494b-9682-72e02d96a4c6",
   "metadata": {},
   "source": [
    "# Preparación \n",
    "\n",
    "1. En VSCode, instalen la extensión [Render Line Endings](https://marketplace.visualstudio.com/items?itemName=medo64.render-crlf).\n",
    "\n",
    "2. En el menú, seleccionen: `View > Appearence > Render Whitespace`.\n",
    "\n",
    "3. En preferencias, busquen `editor.renderWhitespace` y seleccionen `all`.\n",
    "\n",
    "4. Descarguen en el escritorio los archivos [Hamlet pg1524.txt](https://raw.githubusercontent.com/nivaca/HDH202520/refs/heads/main/Hamlet%20pg1524.txt) y [Shakespeare pg100.txt](https://raw.githubusercontent.com/nivaca/HDH202520/refs/heads/main/Shakespeare%20pg100.txt).\n",
    "\n",
    "5. Abran el primero en el editor."
   ]
  },
  {
   "cell_type": "code",
   "execution_count": null,
   "id": "8b1a0ef2-54a4-40d5-afc0-73a5783c77c1",
   "metadata": {},
   "outputs": [],
   "source": []
  }
 ],
 "metadata": {
  "kernelspec": {
   "display_name": "Python 3 (ipykernel)",
   "language": "python",
   "name": "python3"
  },
  "language_info": {
   "codemirror_mode": {
    "name": "ipython",
    "version": 3
   },
   "file_extension": ".py",
   "mimetype": "text/x-python",
   "name": "python",
   "nbconvert_exporter": "python",
   "pygments_lexer": "ipython3",
   "version": "3.12.5"
  }
 },
 "nbformat": 4,
 "nbformat_minor": 5
}
